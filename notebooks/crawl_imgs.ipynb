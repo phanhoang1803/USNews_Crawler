{
 "cells": [
  {
   "cell_type": "code",
   "execution_count": 4,
   "metadata": {},
   "outputs": [],
   "source": [
    "urls = ['https://www.cbsnews.com/news/hilaria-and-alec-baldwin-birth-of-seventh-child/',\n",
    "'https://www.cbsnews.com/news/ukraine-war-americans-alex-drueke-andy-huynh-captured-by-russia-return-home-alabama/',\n",
    "'https://www.cbsnews.com/news/this-week-on-sunday-morning-september-25-2022/']"
   ]
  },
  {
   "cell_type": "code",
   "execution_count": 5,
   "metadata": {},
   "outputs": [],
   "source": [
    "import requests\n",
    "feed_url = \"https://www.latimes.com/politics/rss2.0.xml\""
   ]
  },
  {
   "cell_type": "code",
   "execution_count": 20,
   "metadata": {},
   "outputs": [],
   "source": [
    "import os\n",
    "from urllib.parse import urlparse\n",
    "from urllib.request import urlretrieve\n",
    "from bs4 import BeautifulSoup\n",
    "\n",
    "user_agent = \"Mozilla/5.0 (Macintosh; Intel Mac OS X 10_11_6) AppleWebKit/537.36 (KHTML, like Gecko) Chrome/53.0.2785.143 Safari/537.36\"\n",
    "def fetch_rss_feed(feed_url):\n",
    "    try:\n",
    "        response = requests.get(feed_url, headers={'User-Agent': user_agent}, timeout=10)\n",
    "        response.raise_for_status()\n",
    "        soup = BeautifulSoup(response.content, 'xml')\n",
    "        return soup.find_all('item')\n",
    "    except requests.exceptions.RequestException as e:\n",
    "        print(f\"Error fetching RSS feed from {feed_url}: {e}\")\n",
    "        return []\n",
    "\n",
    "def extract_image_url(news_url):\n",
    "    \"\"\"\n",
    "    Extracts image URLs from the main content of a news article, excluding unwanted sections.\n",
    "    \n",
    "    :param news_url: URL of the news article\n",
    "    :return: List of image URLs found in the main article content\n",
    "    \"\"\"\n",
    "    try:\n",
    "        response = requests.get(news_url, headers={'User-Agent': user_agent}, timeout=10)\n",
    "        response.raise_for_status()\n",
    "        soup = BeautifulSoup(response.content, 'html.parser')\n",
    "        print(soup)\n",
    "        # Exclude certain sections that typically contain irrelevant images\n",
    "        for unwanted in soup(['header', 'footer', 'aside', 'nav']):\n",
    "            unwanted.decompose()\n",
    "        \n",
    "        # Now search for images in the remaining content\n",
    "        main_content = soup.find('article')  # Or a similar relevant container\n",
    "        if main_content:\n",
    "            images = main_content.find_all('img')\n",
    "            image_urls = [img['src'] for img in images if 'src' in img.attrs]\n",
    "            return image_urls\n",
    "        else:\n",
    "            print(f\"No main content found for {news_url}\")\n",
    "            return []\n",
    "    except requests.exceptions.RequestException as e:\n",
    "        print(f\"Error fetching news article from {news_url}: {e}\")\n",
    "    \n",
    "def download_image(image_url, download_dir):\n",
    "    image_count = len(os.listdir(download_dir))\n",
    "    try:\n",
    "        # Parse the URL to get the image file name\n",
    "        parsed_url = urlparse(image_url)\n",
    "        image_name = os.path.basename(\"image_\" + str(image_count) + \".png\")\n",
    "        image_count += 1\n",
    "        image_path = os.path.join(download_dir, image_name)\n",
    "        \n",
    "        # Download the image\n",
    "        urlretrieve(image_url, image_path)\n",
    "        print(f\"Downloaded image: {image_path}\")\n",
    "    except Exception as e:\n",
    "        print(f\"Error downloading image {image_url}: {e}\")"
   ]
  },
  {
   "cell_type": "code",
   "execution_count": 21,
   "metadata": {},
   "outputs": [
    {
     "name": "stdout",
     "output_type": "stream",
     "text": [
      "https://www.latimes.com/opinion/story/2024-08-13/donald-trump-campaign-kamala-harris-polling\n",
      "Downloaded image: F:/Thesis/news-crawler-project/notebooks/images\\image_15.png\n",
      "Downloaded image: F:/Thesis/news-crawler-project/notebooks/images\\image_16.png\n",
      "Downloaded image: F:/Thesis/news-crawler-project/notebooks/images\\image_17.png\n",
      "Downloaded image: F:/Thesis/news-crawler-project/notebooks/images\\image_18.png\n",
      "Downloaded image: F:/Thesis/news-crawler-project/notebooks/images\\image_19.png\n",
      "Downloaded image: F:/Thesis/news-crawler-project/notebooks/images\\image_20.png\n",
      "Downloaded image: F:/Thesis/news-crawler-project/notebooks/images\\image_21.png\n"
     ]
    }
   ],
   "source": [
    "rss_items = fetch_rss_feed(feed_url)\n",
    "for item in rss_items:\n",
    "    news_url = item.find('link').text\n",
    "    print(news_url)\n",
    "    image_urls = extract_image_url(news_url)\n",
    "    for image_url in image_urls:\n",
    "        download_image(image_url, \"F:/Thesis/news-crawler-project/notebooks/images\")\n",
    "    break"
   ]
  },
  {
   "cell_type": "code",
   "execution_count": null,
   "metadata": {},
   "outputs": [],
   "source": []
  },
  {
   "cell_type": "code",
   "execution_count": null,
   "metadata": {},
   "outputs": [],
   "source": []
  }
 ],
 "metadata": {
  "kernelspec": {
   "display_name": "Python 3",
   "language": "python",
   "name": "python3"
  },
  "language_info": {
   "codemirror_mode": {
    "name": "ipython",
    "version": 3
   },
   "file_extension": ".py",
   "mimetype": "text/x-python",
   "name": "python",
   "nbconvert_exporter": "python",
   "pygments_lexer": "ipython3",
   "version": "3.10.11"
  }
 },
 "nbformat": 4,
 "nbformat_minor": 2
}

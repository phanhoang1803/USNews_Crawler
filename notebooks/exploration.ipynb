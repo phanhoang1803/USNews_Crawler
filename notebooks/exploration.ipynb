{
 "cells": [
  {
   "cell_type": "code",
   "execution_count": 3,
   "metadata": {},
   "outputs": [
    {
     "ename": "ModuleNotFoundError",
     "evalue": "No module named 'newscatcher'",
     "output_type": "error",
     "traceback": [
      "\u001b[1;31m---------------------------------------------------------------------------\u001b[0m",
      "\u001b[1;31mModuleNotFoundError\u001b[0m                       Traceback (most recent call last)",
      "Cell \u001b[1;32mIn[3], line 1\u001b[0m\n\u001b[1;32m----> 1\u001b[0m \u001b[38;5;28;01mfrom\u001b[39;00m \u001b[38;5;21;01mnewscatcher\u001b[39;00m \u001b[38;5;28;01mimport\u001b[39;00m Newscatcher\n",
      "\u001b[1;31mModuleNotFoundError\u001b[0m: No module named 'newscatcher'"
     ]
    }
   ],
   "source": [
    "from newscatcher import Newscatcher"
   ]
  },
  {
   "cell_type": "code",
   "execution_count": null,
   "metadata": {},
   "outputs": [],
   "source": [
    "nc = Newscatcher(website = 'nytimes.com')\n",
    "results = nc.get_news()\n",
    "\n",
    "# results.keys()\n",
    "# 'url', 'topic', 'language', 'country', 'articles'\n",
    "\n",
    "# Get the articles\n",
    "articles = results['articles']\n",
    "\n",
    "first_article_summary = articles[0]['summary']\n",
    "first_article_title = articles[0]['title']"
   ]
  }
 ],
 "metadata": {
  "kernelspec": {
   "display_name": "Python 3",
   "language": "python",
   "name": "python3"
  },
  "language_info": {
   "codemirror_mode": {
    "name": "ipython",
    "version": 3
   },
   "file_extension": ".py",
   "mimetype": "text/x-python",
   "name": "python",
   "nbconvert_exporter": "python",
   "pygments_lexer": "ipython3",
   "version": "3.10.11"
  }
 },
 "nbformat": 4,
 "nbformat_minor": 2
}

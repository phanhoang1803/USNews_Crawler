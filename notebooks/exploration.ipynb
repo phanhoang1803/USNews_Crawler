{
 "cells": [
  {
   "cell_type": "code",
   "execution_count": 4,
   "metadata": {},
   "outputs": [
    {
     "ename": "ModuleNotFoundError",
     "evalue": "No module named 'newscatcher'",
     "output_type": "error",
     "traceback": [
      "\u001b[1;31m---------------------------------------------------------------------------\u001b[0m",
      "\u001b[1;31mModuleNotFoundError\u001b[0m                       Traceback (most recent call last)",
      "Cell \u001b[1;32mIn[4], line 1\u001b[0m\n\u001b[1;32m----> 1\u001b[0m \u001b[38;5;28;01mfrom\u001b[39;00m \u001b[38;5;21;01mnewscatcher\u001b[39;00m \u001b[38;5;28;01mimport\u001b[39;00m Newscatcher\n",
      "\u001b[1;31mModuleNotFoundError\u001b[0m: No module named 'newscatcher'"
     ]
    }
   ],
   "source": [
    "from newscatcher import Newscatcher"
   ]
  },
  {
   "cell_type": "code",
   "execution_count": null,
   "metadata": {},
   "outputs": [],
   "source": [
    "nc = Newscatcher(website = 'nytimes.com')\n",
    "results = nc.get_news()\n",
    "\n",
    "# results.keys()\n",
    "# 'url', 'topic', 'language', 'country', 'articles'\n",
    "\n",
    "# Get the articles\n",
    "articles = results['articles']\n",
    "\n",
    "first_article_summary = articles[0]['summary']\n",
    "first_article_title = articles[0]['title']"
   ]
  },
  {
   "cell_type": "code",
   "execution_count": 3,
   "metadata": {},
   "outputs": [],
   "source": [
    "import sqlite3\n",
    "\n",
    "# Connect to the database\n",
    "conn = sqlite3.connect('../data/news_articles.db')\n",
    "\n",
    "# Create a cursor object\n",
    "cursor = conn.cursor()\n",
    "\n",
    "# Execute a query\n",
    "cursor.execute(\"SELECT * FROM urls\")\n",
    "\n",
    "# Delete all urls contain abcnews.go and crawled = 0\n",
    "cursor.execute(\"DELETE FROM urls WHERE url LIKE '%abcnews.go%' AND crawled = 0\")\n",
    "\n",
    "# Fetch and print all results\n",
    "results = cursor.fetchall()\n",
    "for row in results:\n",
    "    print(row)\n",
    "\n",
    "# Commit changes if needed\n",
    "conn.commit()\n",
    "\n",
    "# Close the connection\n",
    "conn.close()\n"
   ]
  },
  {
   "cell_type": "code",
   "execution_count": 15,
   "metadata": {},
   "outputs": [],
   "source": [
    "from newsplease import NewsPlease\n",
    "urls = ['https://www.cbsnews.com/news/hilaria-and-alec-baldwin-birth-of-seventh-child/',\n",
    "'https://www.cbsnews.com/news/ukraine-war-americans-alex-drueke-andy-huynh-captured-by-russia-return-home-alabama/',\n",
    "'https://www.cbsnews.com/news/this-week-on-sunday-morning-september-25-2022/']\n",
    "articles = NewsPlease.from_urls(urls, timeout=6)"
   ]
  },
  {
   "cell_type": "code",
   "execution_count": 14,
   "metadata": {},
   "outputs": [
    {
     "name": "stdout",
     "output_type": "stream",
     "text": [
      "Hilaria and Alec Baldwin announce birth of seventh child\n",
      "The baby girl, named Ilaria Catalina Irena, was born Thursday.\n",
      "This week on \"Sunday Morning\" (September 25)\n",
      "A look at the features for this week's broadcast of the #1 Sunday morning news program\n",
      "\"We got our miracle\": Americans captured while fighting in Ukraine return home to Alabama\n",
      "\"Happy to be home,\" Alex Drueke said after arriving in the U.S. on Friday.\n"
     ]
    }
   ],
   "source": [
    "for url, article in articles.items():\n",
    "    if article:\n",
    "        print(article.title)\n",
    "        print(article.description)"
   ]
  },
  {
   "cell_type": "code",
   "execution_count": 6,
   "metadata": {},
   "outputs": [
    {
     "name": "stdout",
     "output_type": "stream",
     "text": [
      "{'https://www.cbsnews.com/news/hilaria-and-alec-baldwin-birth-of-seventh-child/': <NewsArticle.NewsArticle object at 0x0000019EC4BC4280>, 'https://www.cbsnews.com/news/ukraine-war-americans-alex-drueke-andy-huynh-captured-by-russia-return-home-alabama/': <NewsArticle.NewsArticle object at 0x0000019EC4BC45E0>, 'https://www.cbsnews.com/news/this-week-on-sunday-morning-september-25-2022/': <NewsArticle.NewsArticle object at 0x0000019EC4BC4730>}\n"
     ]
    }
   ],
   "source": [
    "print(articles)"
   ]
  },
  {
   "cell_type": "code",
   "execution_count": 5,
   "metadata": {},
   "outputs": [
    {
     "ename": "KeyError",
     "evalue": "0",
     "output_type": "error",
     "traceback": [
      "\u001b[1;31m---------------------------------------------------------------------------\u001b[0m",
      "\u001b[1;31mKeyError\u001b[0m                                  Traceback (most recent call last)",
      "Cell \u001b[1;32mIn[5], line 1\u001b[0m\n\u001b[1;32m----> 1\u001b[0m \u001b[38;5;28mprint\u001b[39m(\u001b[43marticles\u001b[49m\u001b[43m[\u001b[49m\u001b[38;5;241;43m0\u001b[39;49m\u001b[43m]\u001b[49m\u001b[38;5;241m.\u001b[39mtitle)\n\u001b[0;32m      2\u001b[0m \u001b[38;5;28mprint\u001b[39m(articles[\u001b[38;5;241m0\u001b[39m]\u001b[38;5;241m.\u001b[39mauthors)\n\u001b[0;32m      3\u001b[0m \u001b[38;5;28mprint\u001b[39m(articles[\u001b[38;5;241m0\u001b[39m]\u001b[38;5;241m.\u001b[39mdate_publish)\n",
      "\u001b[1;31mKeyError\u001b[0m: 0"
     ]
    }
   ],
   "source": [
    "print(articles[0].title)\n",
    "print(articles[0].authors)\n",
    "print(articles[0].date_publish)\n",
    "print(articles[0].description)\n",
    "print(articles[0].maintext)\n",
    "print(articles[0].url)"
   ]
  },
  {
   "cell_type": "code",
   "execution_count": null,
   "metadata": {},
   "outputs": [],
   "source": []
  }
 ],
 "metadata": {
  "kernelspec": {
   "display_name": "Python 3",
   "language": "python",
   "name": "python3"
  },
  "language_info": {
   "codemirror_mode": {
    "name": "ipython",
    "version": 3
   },
   "file_extension": ".py",
   "mimetype": "text/x-python",
   "name": "python",
   "nbconvert_exporter": "python",
   "pygments_lexer": "ipython3",
   "version": "3.10.11"
  }
 },
 "nbformat": 4,
 "nbformat_minor": 2
}
